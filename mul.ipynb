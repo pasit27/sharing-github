{
 "cells": [
  {
   "cell_type": "code",
   "execution_count": 94,
   "metadata": {},
   "outputs": [
    {
     "data": {
      "text/plain": [
       "[[298, 321, 344], [60, 66, 72], [72, 78, 84]]"
      ]
     },
     "execution_count": 94,
     "metadata": {},
     "output_type": "execute_result"
    }
   ],
   "source": [
    "def mul(A,B):\n",
    "    m = len(A)\n",
    "    lis = []\n",
    "    C = []\n",
    "    i = 0\n",
    "    k = 0\n",
    "    s = 0\n",
    "    while k != m:\n",
    "        while i != m:\n",
    "            for j in range(m):\n",
    "                s += A[k][j]*B[j][i]\n",
    "            lis.append(s)\n",
    "            s = 0\n",
    "            i += 1\n",
    "        if i == m:\n",
    "            i = 0\n",
    "            C.append(lis)\n",
    "            lis = []\n",
    "            k +=1\n",
    "    return(C)\n",
    "\n",
    "mul([[2,4,17],[3,2,1],[1,2,3]],[[8,9,10],[11,12,13],[14,15,16]])"
   ]
  },
  {
   "cell_type": "code",
   "execution_count": null,
   "metadata": {},
   "outputs": [],
   "source": []
  }
 ],
 "metadata": {
  "kernelspec": {
   "display_name": "Python 3",
   "language": "python",
   "name": "python3"
  },
  "language_info": {
   "codemirror_mode": {
    "name": "ipython",
    "version": 3
   },
   "file_extension": ".py",
   "mimetype": "text/x-python",
   "name": "python",
   "nbconvert_exporter": "python",
   "pygments_lexer": "ipython3",
   "version": "3.8.3"
  }
 },
 "nbformat": 4,
 "nbformat_minor": 4
}
