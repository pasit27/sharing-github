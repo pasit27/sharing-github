{
 "cells": [
  {
   "cell_type": "code",
   "execution_count": 26,
   "metadata": {},
   "outputs": [
    {
     "data": {
      "text/plain": [
       "[[44, 57, 49, 70], [44, 55, 51, 70], [44, 57, 49, 70], [44, 57, 49, 70]]"
      ]
     },
     "execution_count": 26,
     "metadata": {},
     "output_type": "execute_result"
    }
   ],
   "source": [
    "def mul(A,B):\n",
    "    n = len(A)\n",
    "    lis = []\n",
    "    C = []\n",
    "    i = 0\n",
    "    k = 0\n",
    "    s = 0\n",
    "    while k != n:\n",
    "        while i != len(B[0]):\n",
    "            for j in range(len(B)):\n",
    "                s += A[k][j]*B[j][i]\n",
    "            lis.append(s)\n",
    "            s = 0\n",
    "            i += 1\n",
    "        if i == len(B[0]):\n",
    "            i = 0\n",
    "            C.append(lis)\n",
    "            lis = []\n",
    "            k +=1\n",
    "    return(C)\n",
    "mul([[1,2,3,4],[3,2,1,4],[1,2,3,4],[1,2,3,4]],[[4,5,6,7],[6,5,4,7],[4,6,5,7],[4,6,5,7]])\n",
    "#mul([[1,2,3],[1,2,3]],[[4,5],[6,5],[4,6]])\n",
    "#mul([[4,5],[6,5],[4,6]],[[1,2,3],[1,2,3]])"
   ]
  },
  {
   "cell_type": "code",
   "execution_count": null,
   "metadata": {},
   "outputs": [],
   "source": []
  }
 ],
 "metadata": {
  "kernelspec": {
   "display_name": "Python 3",
   "language": "python",
   "name": "python3"
  },
  "language_info": {
   "codemirror_mode": {
    "name": "ipython",
    "version": 3
   },
   "file_extension": ".py",
   "mimetype": "text/x-python",
   "name": "python",
   "nbconvert_exporter": "python",
   "pygments_lexer": "ipython3",
   "version": "3.8.3"
  }
 },
 "nbformat": 4,
 "nbformat_minor": 4
}
